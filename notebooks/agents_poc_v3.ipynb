{
 "cells": [
  {
   "cell_type": "code",
   "execution_count": 1,
   "metadata": {},
   "outputs": [],
   "source": [
    "# Set autoreload\n",
    "%load_ext autoreload\n",
    "%autoreload 2\n",
    "\n",
    "import os\n",
    "import sys\n",
    "import pandas as pd\n",
    "sys.path.append('../app/src')\n",
    "from config import config\n",
    "import engines\n",
    "from langchain_community.chat_message_histories import ChatMessageHistory\n",
    "from langchain_community.utilities import SQLDatabase\n",
    "from engines import setup\n"
   ]
  },
  {
   "cell_type": "code",
   "execution_count": 2,
   "metadata": {},
   "outputs": [],
   "source": [
    "messages_history = ChatMessageHistory()\n",
    "db = SQLDatabase.from_uri('sqlite:///../data/artifacts/sql_database.db')\n",
    "\n",
    "agent = setup.create_sql_database_agent(\n",
    "    messages_history=messages_history, \n",
    "    db=db\n",
    ")\n"
   ]
  },
  {
   "cell_type": "code",
   "execution_count": 3,
   "metadata": {},
   "outputs": [
    {
     "name": "stdout",
     "output_type": "stream",
     "text": [
      "\n",
      "\n",
      "\u001b[1m> Entering new SQL Agent Executor chain...\u001b[0m\n",
      "\u001b[32;1m\u001b[1;3m\n",
      "Invoking: `sql_db_list_tables` with `{}`\n",
      "\n",
      "\n",
      "\u001b[0m\u001b[38;5;200m\u001b[1;3mclient_target_allocations, financial_advisor_clients\u001b[0m\u001b[32;1m\u001b[1;3m\n",
      "Invoking: `sql_db_schema` with `{'table_names': 'financial_advisor_clients'}`\n",
      "\n",
      "\n",
      "\u001b[0m\u001b[33;1m\u001b[1;3m\n",
      "CREATE TABLE financial_advisor_clients (\n",
      "\t\"Client\" TEXT, \n",
      "\t\"Symbol\" TEXT, \n",
      "\t\"Name\" TEXT, \n",
      "\t\"Sector\" TEXT, \n",
      "\t\"Quantity\" REAL, \n",
      "\t\"Buy Price\" REAL, \n",
      "\t\"Current Price\" REAL, \n",
      "\t\"Market Value\" REAL, \n",
      "\t\"Purchase Date\" TEXT, \n",
      "\t\"Dividend Yield\" REAL, \n",
      "\t\"P/E Ratio\" REAL, \n",
      "\t\"52-Week High\" REAL, \n",
      "\t\"52-Week Low\" REAL, \n",
      "\t\"Analyst Rating\" TEXT, \n",
      "\t\"Target Price\" REAL, \n",
      "\t\"Risk Level\" TEXT, \n",
      "\t\"Client_validation\" INTEGER, \n",
      "\t\"Client_Id\" TEXT\n",
      ")\n",
      "\n",
      "/*\n",
      "3 rows from financial_advisor_clients table:\n",
      "Client\tSymbol\tName\tSector\tQuantity\tBuy Price\tCurrent Price\tMarket Value\tPurchase Date\tDividend Yield\tP/E Ratio\t52-Week High\t52-Week Low\tAnalyst Rating\tTarget Price\tRisk Level\tClient_validation\tClient_Id\n",
      "Client_1\tDIA\tSPDR Dow Jones Industrial Average ETF\tETF\t135.0\t264.89\t574.42\t77546.7\t12/11/21\t1.61\t19.2\t674.71\t493.6\tHold\t660.28\tMedium\t1\t9e44eb7176da2ea6454a4a2894c345f6\n",
      "Client_1\tGOOGL\tAlphabet Inc.\tCommunication Services\t45.0\t93.66\t1062.91\t47830.95\t11/23/21\t2.62\t23.06\t1205.77\t866.81\tHold\t1077.25\tMedium\t1\t9e44eb7176da2ea6454a4a2894c345f6\n",
      "Client_1\tAMZN\tAmazon.com Inc.\tNone\t175.0\t412.66\t1431.35\t250486.25\t1/13/21\t4.85\t17.01\t1601.19\t1155.29\tBuy\t1368.42\tLow\t1\t9e44eb7176da2ea6454a4a2894c345f6\n",
      "*/\u001b[0m\u001b[32;1m\u001b[1;3m\n",
      "Invoking: `sql_db_query_checker` with `{'query': 'SELECT Client_Id, Client, SUM(ROUND(Quantity * (\"Current Price\"-\"Buy Price\"))) AS FinalEarning FROM financial_advisor_clients WHERE \"Analyst Rating\" = \\'Sell\\' GROUP BY Client_Id, Client ORDER BY FinalEarning DESC LIMIT 1'}`\n",
      "\n",
      "\n",
      "\u001b[0m\u001b[36;1m\u001b[1;3m```sql\n",
      "SELECT Client_Id, Client, SUM(ROUND(Quantity * (\"Current Price\" - \"Buy Price\"))) AS FinalEarning \n",
      "FROM financial_advisor_clients \n",
      "WHERE \"Analyst Rating\" = 'Sell' \n",
      "GROUP BY Client_Id, Client \n",
      "ORDER BY FinalEarning DESC \n",
      "LIMIT 1;\n",
      "```\u001b[0m\u001b[32;1m\u001b[1;3m\n",
      "Invoking: `sql_db_query` with `{'query': 'SELECT Client_Id, Client, SUM(ROUND(Quantity * (\"Current Price\" - \"Buy Price\"))) AS FinalEarning FROM financial_advisor_clients WHERE \"Analyst Rating\" = \\'Sell\\' GROUP BY Client_Id, Client ORDER BY FinalEarning DESC LIMIT 1'}`\n",
      "\n",
      "\n",
      "\u001b[0m\u001b[36;1m\u001b[1;3m[('0a12f083bc1771602859d26bd9be81e3', 'Client_13', 260663.0)]\u001b[0m\u001b[32;1m\u001b[1;3mThe highest final earning for clients whose Analyst Rating was to sell the shares is $260,663. This earning belongs to Client_13.\u001b[0m\n",
      "\n",
      "\u001b[1m> Finished chain.\u001b[0m\n"
     ]
    }
   ],
   "source": [
    "answer = agent.get_answer(\"Get the final highest earning for clients whose Analyst Rating was to sell the shares\")"
   ]
  },
  {
   "cell_type": "code",
   "execution_count": 4,
   "metadata": {},
   "outputs": [
    {
     "name": "stdout",
     "output_type": "stream",
     "text": [
      "The highest final earning for clients whose Analyst Rating was to sell the shares is $260,663. This earning belongs to Client_13.\n"
     ]
    }
   ],
   "source": [
    "print(answer.get(\"output\"))"
   ]
  },
  {
   "cell_type": "code",
   "execution_count": 5,
   "metadata": {},
   "outputs": [
    {
     "name": "stdout",
     "output_type": "stream",
     "text": [
      "\n",
      "\n",
      "\u001b[1m> Entering new SQL Agent Executor chain...\u001b[0m\n",
      "\u001b[32;1m\u001b[1;3m\n",
      "Invoking: `sql_db_list_tables` with `{}`\n",
      "\n",
      "\n",
      "\u001b[0m\u001b[38;5;200m\u001b[1;3mclient_target_allocations, financial_advisor_clients\u001b[0m\u001b[32;1m\u001b[1;3m\n",
      "Invoking: `sql_db_schema` with `{'table_names': 'financial_advisor_clients'}`\n",
      "\n",
      "\n",
      "\u001b[0m\u001b[33;1m\u001b[1;3m\n",
      "CREATE TABLE financial_advisor_clients (\n",
      "\t\"Client\" TEXT, \n",
      "\t\"Symbol\" TEXT, \n",
      "\t\"Name\" TEXT, \n",
      "\t\"Sector\" TEXT, \n",
      "\t\"Quantity\" REAL, \n",
      "\t\"Buy Price\" REAL, \n",
      "\t\"Current Price\" REAL, \n",
      "\t\"Market Value\" REAL, \n",
      "\t\"Purchase Date\" TEXT, \n",
      "\t\"Dividend Yield\" REAL, \n",
      "\t\"P/E Ratio\" REAL, \n",
      "\t\"52-Week High\" REAL, \n",
      "\t\"52-Week Low\" REAL, \n",
      "\t\"Analyst Rating\" TEXT, \n",
      "\t\"Target Price\" REAL, \n",
      "\t\"Risk Level\" TEXT, \n",
      "\t\"Client_validation\" INTEGER, \n",
      "\t\"Client_Id\" TEXT\n",
      ")\n",
      "\n",
      "/*\n",
      "3 rows from financial_advisor_clients table:\n",
      "Client\tSymbol\tName\tSector\tQuantity\tBuy Price\tCurrent Price\tMarket Value\tPurchase Date\tDividend Yield\tP/E Ratio\t52-Week High\t52-Week Low\tAnalyst Rating\tTarget Price\tRisk Level\tClient_validation\tClient_Id\n",
      "Client_1\tDIA\tSPDR Dow Jones Industrial Average ETF\tETF\t135.0\t264.89\t574.42\t77546.7\t12/11/21\t1.61\t19.2\t674.71\t493.6\tHold\t660.28\tMedium\t1\t9e44eb7176da2ea6454a4a2894c345f6\n",
      "Client_1\tGOOGL\tAlphabet Inc.\tCommunication Services\t45.0\t93.66\t1062.91\t47830.95\t11/23/21\t2.62\t23.06\t1205.77\t866.81\tHold\t1077.25\tMedium\t1\t9e44eb7176da2ea6454a4a2894c345f6\n",
      "Client_1\tAMZN\tAmazon.com Inc.\tNone\t175.0\t412.66\t1431.35\t250486.25\t1/13/21\t4.85\t17.01\t1601.19\t1155.29\tBuy\t1368.42\tLow\t1\t9e44eb7176da2ea6454a4a2894c345f6\n",
      "*/\u001b[0m\u001b[32;1m\u001b[1;3m\n",
      "Invoking: `sql_db_query_checker` with `{'query': \"SELECT Client FROM financial_advisor_clients WHERE Symbol = 'GOOGL' LIMIT 10\"}`\n",
      "\n",
      "\n",
      "\u001b[0m\u001b[36;1m\u001b[1;3m```sql\n",
      "SELECT Client FROM financial_advisor_clients WHERE Symbol = 'GOOGL' LIMIT 10\n",
      "```\u001b[0m\u001b[32;1m\u001b[1;3m\n",
      "Invoking: `sql_db_query` with `{'query': \"SELECT Client FROM financial_advisor_clients WHERE Symbol = 'GOOGL' LIMIT 10\"}`\n",
      "\n",
      "\n",
      "\u001b[0m\u001b[36;1m\u001b[1;3m[('Client_1',), ('Client_2',), ('Client_3',), ('Client_4',), ('Client_5',), ('Client_6',), ('Client_7',), ('Client_8',), ('Client_9',), ('Client_10',)]\u001b[0m\u001b[32;1m\u001b[1;3mThe following clients hold stocks from Google (Alphabet Inc.):\n",
      "\n",
      "1. Client_1\n",
      "2. Client_2\n",
      "3. Client_3\n",
      "4. Client_4\n",
      "5. Client_5\n",
      "6. Client_6\n",
      "7. Client_7\n",
      "8. Client_8\n",
      "9. Client_9\n",
      "10. Client_10\u001b[0m\n",
      "\n",
      "\u001b[1m> Finished chain.\u001b[0m\n"
     ]
    }
   ],
   "source": [
    "answer = agent.get_answer(\"Which client holds stocks from Google\")"
   ]
  },
  {
   "cell_type": "code",
   "execution_count": 6,
   "metadata": {},
   "outputs": [
    {
     "name": "stdout",
     "output_type": "stream",
     "text": [
      "The following clients hold stocks from Google (Alphabet Inc.):\n",
      "\n",
      "1. Client_1\n",
      "2. Client_2\n",
      "3. Client_3\n",
      "4. Client_4\n",
      "5. Client_5\n",
      "6. Client_6\n",
      "7. Client_7\n",
      "8. Client_8\n",
      "9. Client_9\n",
      "10. Client_10\n"
     ]
    }
   ],
   "source": [
    "print(answer.get(\"output\"))"
   ]
  },
  {
   "cell_type": "code",
   "execution_count": 7,
   "metadata": {},
   "outputs": [
    {
     "name": "stdout",
     "output_type": "stream",
     "text": [
      "\n",
      "\n",
      "\u001b[1m> Entering new SQL Agent Executor chain...\u001b[0m\n",
      "\u001b[32;1m\u001b[1;3m\n",
      "Invoking: `sql_db_list_tables` with `{}`\n",
      "\n",
      "\n",
      "\u001b[0m\u001b[38;5;200m\u001b[1;3mclient_target_allocations, financial_advisor_clients\u001b[0m\u001b[32;1m\u001b[1;3m\n",
      "Invoking: `sql_db_schema` with `{'table_names': 'client_target_allocations'}`\n",
      "\n",
      "\n",
      "\u001b[0m\u001b[33;1m\u001b[1;3m\n",
      "CREATE TABLE client_target_allocations (\n",
      "\t\"Client\" TEXT, \n",
      "\t\"Target Portfolio\" TEXT, \n",
      "\t\"Asset Class\" TEXT, \n",
      "\t\"Target Allocation (%)\" REAL, \n",
      "\t\"Target Portfolio_validation\" INTEGER, \n",
      "\t\"Client_validation\" INTEGER, \n",
      "\t\"Asset Class_validation\" INTEGER\n",
      ")\n",
      "\n",
      "/*\n",
      "3 rows from client_target_allocations table:\n",
      "Client\tTarget Portfolio\tAsset Class\tTarget Allocation (%)\tTarget Portfolio_validation\tClient_validation\tAsset Class_validation\n",
      "Client_1\tBalanced\tBonds\t30.0\t1\t1\t1\n",
      "Client_1\tBalanced\tETFs\t15.0\t1\t1\t1\n",
      "Client_1\tBalanced\tCash\t5.0\t1\t1\t1\n",
      "*/\u001b[0m\u001b[32;1m\u001b[1;3m\n",
      "Invoking: `sql_db_query_checker` with `{'query': 'SELECT Client, \"Target Portfolio\", \"Target Allocation (%)\" FROM client_target_allocations WHERE \"Asset Class\" = \\'Cash\\' AND \"Target Allocation (%)\" >= 10 LIMIT 10'}`\n",
      "\n",
      "\n",
      "\u001b[0m\u001b[36;1m\u001b[1;3m```sql\n",
      "SELECT Client, \"Target Portfolio\", \"Target Allocation (%)\" \n",
      "FROM client_target_allocations \n",
      "WHERE \"Asset Class\" = 'Cash' \n",
      "AND \"Target Allocation (%)\" >= 10 \n",
      "LIMIT 10;\n",
      "```\u001b[0m\u001b[32;1m\u001b[1;3m\n",
      "Invoking: `sql_db_query` with `{'query': 'SELECT Client, \"Target Portfolio\", \"Target Allocation (%)\" FROM client_target_allocations WHERE \"Asset Class\" = \\'Cash\\' AND \"Target Allocation (%)\" >= 10 LIMIT 10'}`\n",
      "\n",
      "\n",
      "\u001b[0m\u001b[36;1m\u001b[1;3m[('Client_7', 'Conservative', 10.0), ('Client_8', 'Conservative', 10.0), ('Client_21', 'Conservative', 10.0), ('Client_22', 'Conservative', 10.0), ('Client_30', 'Conservative', 10.0), ('Client_33', 'Conservative', 10.0), ('Client_41', 'Conservative', 10.0), ('Client_48', 'Conservative', 10.0)]\u001b[0m\u001b[32;1m\u001b[1;3mThe clients who hold 10% or more in cash are:\n",
      "\n",
      "1. Client_7 (Conservative) - 10.0%\n",
      "2. Client_8 (Conservative) - 10.0%\n",
      "3. Client_21 (Conservative) - 10.0%\n",
      "4. Client_22 (Conservative) - 10.0%\n",
      "5. Client_30 (Conservative) - 10.0%\n",
      "6. Client_33 (Conservative) - 10.0%\n",
      "7. Client_41 (Conservative) - 10.0%\n",
      "8. Client_48 (Conservative) - 10.0%\u001b[0m\n",
      "\n",
      "\u001b[1m> Finished chain.\u001b[0m\n"
     ]
    }
   ],
   "source": [
    "answer = agent.get_answer(\"and which client holds 10% or more in cash\")"
   ]
  },
  {
   "cell_type": "code",
   "execution_count": 8,
   "metadata": {},
   "outputs": [
    {
     "name": "stdout",
     "output_type": "stream",
     "text": [
      "The clients who hold 10% or more in cash are:\n",
      "\n",
      "1. Client_7 (Conservative) - 10.0%\n",
      "2. Client_8 (Conservative) - 10.0%\n",
      "3. Client_21 (Conservative) - 10.0%\n",
      "4. Client_22 (Conservative) - 10.0%\n",
      "5. Client_30 (Conservative) - 10.0%\n",
      "6. Client_33 (Conservative) - 10.0%\n",
      "7. Client_41 (Conservative) - 10.0%\n",
      "8. Client_48 (Conservative) - 10.0%\n"
     ]
    }
   ],
   "source": [
    "print(answer.get(\"output\"))"
   ]
  },
  {
   "cell_type": "code",
   "execution_count": 9,
   "metadata": {},
   "outputs": [
    {
     "name": "stdout",
     "output_type": "stream",
     "text": [
      "\n",
      "\n",
      "\u001b[1m> Entering new SQL Agent Executor chain...\u001b[0m\n",
      "\u001b[32;1m\u001b[1;3mI don't know. Could you please provide more context or clarify your question? Are you asking about a specific percentage related to a financial metric, a discount, or something else?\u001b[0m\n",
      "\n",
      "\u001b[1m> Finished chain.\u001b[0m\n"
     ]
    }
   ],
   "source": [
    "answer = agent.get_answer(\"what about 5%?\")\n"
   ]
  },
  {
   "cell_type": "code",
   "execution_count": 10,
   "metadata": {},
   "outputs": [
    {
     "name": "stdout",
     "output_type": "stream",
     "text": [
      "I don't know. Could you please provide more context or clarify your question? Are you asking about a specific percentage related to a financial metric, a discount, or something else?\n"
     ]
    }
   ],
   "source": [
    "print(answer.get(\"output\"))"
   ]
  },
  {
   "cell_type": "code",
   "execution_count": 11,
   "metadata": {},
   "outputs": [
    {
     "name": "stdout",
     "output_type": "stream",
     "text": [
      "\n",
      "\n",
      "\u001b[1m> Entering new SQL Agent Executor chain...\u001b[0m\n",
      "\u001b[32;1m\u001b[1;3m\n",
      "Invoking: `sql_db_list_tables` with `{}`\n",
      "\n",
      "\n",
      "\u001b[0m\u001b[38;5;200m\u001b[1;3mclient_target_allocations, financial_advisor_clients\u001b[0m\u001b[32;1m\u001b[1;3m\n",
      "Invoking: `sql_db_schema` with `{'table_names': 'client_target_allocations'}`\n",
      "\n",
      "\n",
      "\u001b[0m\u001b[33;1m\u001b[1;3m\n",
      "CREATE TABLE client_target_allocations (\n",
      "\t\"Client\" TEXT, \n",
      "\t\"Target Portfolio\" TEXT, \n",
      "\t\"Asset Class\" TEXT, \n",
      "\t\"Target Allocation (%)\" REAL, \n",
      "\t\"Target Portfolio_validation\" INTEGER, \n",
      "\t\"Client_validation\" INTEGER, \n",
      "\t\"Asset Class_validation\" INTEGER\n",
      ")\n",
      "\n",
      "/*\n",
      "3 rows from client_target_allocations table:\n",
      "Client\tTarget Portfolio\tAsset Class\tTarget Allocation (%)\tTarget Portfolio_validation\tClient_validation\tAsset Class_validation\n",
      "Client_1\tBalanced\tBonds\t30.0\t1\t1\t1\n",
      "Client_1\tBalanced\tETFs\t15.0\t1\t1\t1\n",
      "Client_1\tBalanced\tCash\t5.0\t1\t1\t1\n",
      "*/\u001b[0m\u001b[32;1m\u001b[1;3m\n",
      "Invoking: `sql_db_query_checker` with `{'query': 'SELECT Client, \"Target Portfolio\", \"Target Allocation (%)\" FROM client_target_allocations WHERE \"Asset Class\" = \\'Cash\\' AND \"Target Allocation (%)\" > 5.0 LIMIT 10'}`\n",
      "\n",
      "\n",
      "\u001b[0m\u001b[36;1m\u001b[1;3m```sql\n",
      "SELECT Client, \"Target Portfolio\", \"Target Allocation (%)\" \n",
      "FROM client_target_allocations \n",
      "WHERE \"Asset Class\" = 'Cash' \n",
      "AND \"Target Allocation (%)\" > 5.0 \n",
      "LIMIT 10\n",
      "```\u001b[0m\u001b[32;1m\u001b[1;3m\n",
      "Invoking: `sql_db_query` with `{'query': 'SELECT Client, \"Target Portfolio\", \"Target Allocation (%)\" FROM client_target_allocations WHERE \"Asset Class\" = \\'Cash\\' AND \"Target Allocation (%)\" > 5.0 LIMIT 10'}`\n",
      "\n",
      "\n",
      "\u001b[0m\u001b[36;1m\u001b[1;3m[('Client_7', 'Conservative', 10.0), ('Client_8', 'Conservative', 10.0), ('Client_21', 'Conservative', 10.0), ('Client_22', 'Conservative', 10.0), ('Client_30', 'Conservative', 10.0), ('Client_33', 'Conservative', 10.0), ('Client_41', 'Conservative', 10.0), ('Client_48', 'Conservative', 10.0)]\u001b[0m\u001b[32;1m\u001b[1;3mHere are the clients who hold more than 5% in cash:\n",
      "\n",
      "1. Client_7 - Target Portfolio: Conservative, Cash Allocation: 10.0%\n",
      "2. Client_8 - Target Portfolio: Conservative, Cash Allocation: 10.0%\n",
      "3. Client_21 - Target Portfolio: Conservative, Cash Allocation: 10.0%\n",
      "4. Client_22 - Target Portfolio: Conservative, Cash Allocation: 10.0%\n",
      "5. Client_30 - Target Portfolio: Conservative, Cash Allocation: 10.0%\n",
      "6. Client_33 - Target Portfolio: Conservative, Cash Allocation: 10.0%\n",
      "7. Client_41 - Target Portfolio: Conservative, Cash Allocation: 10.0%\n",
      "8. Client_48 - Target Portfolio: Conservative, Cash Allocation: 10.0%\u001b[0m\n",
      "\n",
      "\u001b[1m> Finished chain.\u001b[0m\n"
     ]
    }
   ],
   "source": [
    "answer = agent.get_answer(\"I wanna know which client holds more than 5% in cash\")"
   ]
  },
  {
   "cell_type": "code",
   "execution_count": 12,
   "metadata": {},
   "outputs": [
    {
     "name": "stdout",
     "output_type": "stream",
     "text": [
      "Here are the clients who hold more than 5% in cash:\n",
      "\n",
      "1. Client_7 - Target Portfolio: Conservative, Cash Allocation: 10.0%\n",
      "2. Client_8 - Target Portfolio: Conservative, Cash Allocation: 10.0%\n",
      "3. Client_21 - Target Portfolio: Conservative, Cash Allocation: 10.0%\n",
      "4. Client_22 - Target Portfolio: Conservative, Cash Allocation: 10.0%\n",
      "5. Client_30 - Target Portfolio: Conservative, Cash Allocation: 10.0%\n",
      "6. Client_33 - Target Portfolio: Conservative, Cash Allocation: 10.0%\n",
      "7. Client_41 - Target Portfolio: Conservative, Cash Allocation: 10.0%\n",
      "8. Client_48 - Target Portfolio: Conservative, Cash Allocation: 10.0%\n"
     ]
    }
   ],
   "source": [
    "print(answer.get(\"output\"))"
   ]
  },
  {
   "cell_type": "code",
   "execution_count": null,
   "metadata": {},
   "outputs": [],
   "source": []
  }
 ],
 "metadata": {
  "kernelspec": {
   "display_name": ".venv",
   "language": "python",
   "name": "python3"
  },
  "language_info": {
   "codemirror_mode": {
    "name": "ipython",
    "version": 3
   },
   "file_extension": ".py",
   "mimetype": "text/x-python",
   "name": "python",
   "nbconvert_exporter": "python",
   "pygments_lexer": "ipython3",
   "version": "3.12.4"
  }
 },
 "nbformat": 4,
 "nbformat_minor": 2
}

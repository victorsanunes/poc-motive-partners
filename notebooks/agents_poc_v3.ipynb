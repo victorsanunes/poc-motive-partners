{
 "cells": [
  {
   "cell_type": "code",
   "execution_count": 43,
   "metadata": {},
   "outputs": [
    {
     "name": "stdout",
     "output_type": "stream",
     "text": [
      "The autoreload extension is already loaded. To reload it, use:\n",
      "  %reload_ext autoreload\n"
     ]
    }
   ],
   "source": [
    "# Set autoreload\n",
    "%load_ext autoreload\n",
    "%autoreload 2\n",
    "\n",
    "import os\n",
    "import sys\n",
    "import pandas as pd\n",
    "sys.path.append('../app/src')\n",
    "from config import config"
   ]
  },
  {
   "cell_type": "markdown",
   "metadata": {},
   "source": [
    "# Create sql database\n"
   ]
  },
  {
   "cell_type": "code",
   "execution_count": 48,
   "metadata": {},
   "outputs": [
    {
     "name": "stdout",
     "output_type": "stream",
     "text": [
      "sqlite\n",
      "['financial_advisor_clients']\n"
     ]
    }
   ],
   "source": [
    "from langchain_community.utilities import SQLDatabase\n",
    "db = SQLDatabase.from_uri('sqlite:///../data/artifacts/sql_database.db')\n",
    "print(db.dialect)\n",
    "print(db.get_usable_table_names())"
   ]
  },
  {
   "cell_type": "code",
   "execution_count": 66,
   "metadata": {},
   "outputs": [],
   "source": [
    "from langchain_community.agent_toolkits import create_sql_agent\n",
    "from langchain_openai import ChatOpenAI\n",
    "\n",
    "llm = ChatOpenAI(model=\"gpt-4o\", temperature=0)\n",
    "agent_executor = create_sql_agent(llm, db=db, agent_type=\"openai-tools\", verbose=True)"
   ]
  },
  {
   "cell_type": "code",
   "execution_count": 67,
   "metadata": {},
   "outputs": [
    {
     "name": "stdout",
     "output_type": "stream",
     "text": [
      "\n",
      "\n",
      "\u001b[1m> Entering new SQL Agent Executor chain...\u001b[0m\n",
      "\u001b[32;1m\u001b[1;3m\n",
      "Invoking: `sql_db_list_tables` with `{}`\n",
      "\n",
      "\n",
      "\u001b[0m\u001b[38;5;200m\u001b[1;3mfinancial_advisor_clients\u001b[0m\u001b[32;1m\u001b[1;3m\n",
      "Invoking: `sql_db_schema` with `{'table_names': 'financial_advisor_clients'}`\n",
      "\n",
      "\n",
      "\u001b[0m\u001b[33;1m\u001b[1;3m\n",
      "CREATE TABLE financial_advisor_clients (\n",
      "\t\"Client\" TEXT, \n",
      "\t\"Symbol\" TEXT, \n",
      "\t\"Name\" TEXT, \n",
      "\t\"Sector\" TEXT, \n",
      "\t\"Quantity\" REAL, \n",
      "\t\"Buy Price\" REAL, \n",
      "\t\"Current Price\" REAL, \n",
      "\t\"Market Value\" REAL, \n",
      "\t\"Purchase Date\" TEXT, \n",
      "\t\"Dividend Yield\" REAL, \n",
      "\t\"P/E Ratio\" REAL, \n",
      "\t\"52-Week High\" REAL, \n",
      "\t\"52-Week Low\" REAL, \n",
      "\t\"Analyst Rating\" TEXT, \n",
      "\t\"Target Price\" REAL, \n",
      "\t\"Risk Level\" TEXT, \n",
      "\t\"Client_validation\" INTEGER, \n",
      "\t\"Client_Id\" TEXT\n",
      ")\n",
      "\n",
      "/*\n",
      "3 rows from financial_advisor_clients table:\n",
      "Client\tSymbol\tName\tSector\tQuantity\tBuy Price\tCurrent Price\tMarket Value\tPurchase Date\tDividend Yield\tP/E Ratio\t52-Week High\t52-Week Low\tAnalyst Rating\tTarget Price\tRisk Level\tClient_validation\tClient_Id\n",
      "Client_1\tDIA\tSPDR Dow Jones Industrial Average ETF\tETF\t135.0\t264.89\t574.42\t77546.7\t12/11/21\t1.61\t19.2\t674.71\t493.6\tHold\t660.28\tMedium\t1\t9e44eb7176da2ea6454a4a2894c345f6\n",
      "Client_1\tGOOGL\tAlphabet Inc.\tCommunication Services\t45.0\t93.66\t1062.91\t47830.95\t11/23/21\t2.62\t23.06\t1205.77\t866.81\tHold\t1077.25\tMedium\t1\t9e44eb7176da2ea6454a4a2894c345f6\n",
      "Client_1\tAMZN\tAmazon.com Inc.\tNone\t175.0\t412.66\t1431.35\t250486.25\t1/13/21\t4.85\t17.01\t1601.19\t1155.29\tBuy\t1368.42\tLow\t1\t9e44eb7176da2ea6454a4a2894c345f6\n",
      "*/\u001b[0m\u001b[32;1m\u001b[1;3m\n",
      "Invoking: `sql_db_query_checker` with `{'query': 'SELECT \"Analyst Rating\", COUNT(DISTINCT \"Client_Id\") as total_clients FROM financial_advisor_clients GROUP BY \"Analyst Rating\"'}`\n",
      "\n",
      "\n",
      "\u001b[0m\u001b[36;1m\u001b[1;3m```sql\n",
      "SELECT \"Analyst Rating\", COUNT(DISTINCT \"Client_Id\") as total_clients \n",
      "FROM financial_advisor_clients \n",
      "GROUP BY \"Analyst Rating\"\n",
      "```\u001b[0m\u001b[32;1m\u001b[1;3m\n",
      "Invoking: `sql_db_query` with `{'query': 'SELECT \"Analyst Rating\", COUNT(DISTINCT \"Client_Id\") as total_clients FROM financial_advisor_clients GROUP BY \"Analyst Rating\"'}`\n",
      "\n",
      "\n",
      "\u001b[0m\u001b[36;1m\u001b[1;3m[(None, 5), ('Buy', 50), ('Hold', 50), ('Sell', 50)]\u001b[0m\u001b[32;1m\u001b[1;3mHere is the total number of clients within each analyst rating position:\n",
      "\n",
      "- Buy: 50 clients\n",
      "- Hold: 50 clients\n",
      "- Sell: 50 clients\n",
      "- No rating: 5 clients\u001b[0m\n",
      "\n",
      "\u001b[1m> Finished chain.\u001b[0m\n"
     ]
    },
    {
     "data": {
      "text/plain": [
       "{'input': 'List the total number of clients within each analyst rating position',\n",
       " 'output': 'Here is the total number of clients within each analyst rating position:\\n\\n- Buy: 50 clients\\n- Hold: 50 clients\\n- Sell: 50 clients\\n- No rating: 5 clients'}"
      ]
     },
     "execution_count": 67,
     "metadata": {},
     "output_type": "execute_result"
    }
   ],
   "source": [
    "agent_executor.invoke(\n",
    "    \"List the total number of clients within each analyst rating position\"\n",
    ")"
   ]
  },
  {
   "cell_type": "markdown",
   "metadata": {},
   "source": [
    "## Adding Few-Shot Prompt"
   ]
  },
  {
   "cell_type": "code",
   "execution_count": 68,
   "metadata": {},
   "outputs": [],
   "source": [
    "examples = [\n",
    "    {\"input\": 'Get the final earning for clients whose Analyst Rating was to sell the shares',\n",
    "    \"query\": '''\n",
    "    SELECT\n",
    "        fac.Client_Id,\n",
    "        fac.Client,\n",
    "        SUM(ROUND(fac.Quantity * (fac.\"Current Price\"-fac.\"Buy Price\"))) AS FinalEarning\n",
    "    FROM financial_advisor_clients AS fac\n",
    "    WHERE\n",
    "        fac.\"Analyst Rating\" = 'Sell'\n",
    "    GROUP BY\n",
    "        fac.Client_Id,\n",
    "        fac.Client\n",
    "    ORDER BY\n",
    "        fac.Client_Id ASC\n",
    "    '''}\n",
    "]"
   ]
  },
  {
   "cell_type": "code",
   "execution_count": 69,
   "metadata": {},
   "outputs": [],
   "source": [
    "from langchain_community.vectorstores import FAISS\n",
    "from langchain_core.example_selectors import SemanticSimilarityExampleSelector\n",
    "from langchain_openai import OpenAIEmbeddings\n",
    "\n",
    "example_selector = SemanticSimilarityExampleSelector.from_examples(\n",
    "    examples,\n",
    "    OpenAIEmbeddings(),\n",
    "    FAISS,\n",
    "    k=5,\n",
    "    input_keys=[\"input\"],\n",
    ")"
   ]
  },
  {
   "cell_type": "code",
   "execution_count": 70,
   "metadata": {},
   "outputs": [],
   "source": [
    "from langchain_core.prompts import (\n",
    "    ChatPromptTemplate,\n",
    "    FewShotPromptTemplate,\n",
    "    MessagesPlaceholder,\n",
    "    PromptTemplate,\n",
    "    SystemMessagePromptTemplate,\n",
    ")\n",
    "\n",
    "system_prefix = \"\"\"You are an agent designed to interact with a SQL database.\n",
    "Given an input question, create a syntactically correct {dialect} query to run, then look at the results of the query and return the answer.\n",
    "Unless the user specifies a specific number of examples they wish to obtain, always limit your query to at most {top_k} results.\n",
    "You can order the results by a relevant column to return the most interesting examples in the database.\n",
    "Never query for all the columns from a specific table, only ask for the relevant columns given the question.\n",
    "You have access to tools for interacting with the database.\n",
    "Only use the given tools. Only use the information returned by the tools to construct your final answer.\n",
    "You MUST double check your query before executing it. If you get an error while executing a query, rewrite the query and try again.\n",
    "\n",
    "DO NOT make any DML statements (INSERT, UPDATE, DELETE, DROP etc.) to the database.\n",
    "\n",
    "If the question does not seem related to the database, just return \"I don't know\" as the answer.\n",
    "\n",
    "Here are some examples of user inputs and their corresponding SQL queries:\"\"\"\n",
    "\n",
    "few_shot_prompt = FewShotPromptTemplate(\n",
    "    example_selector=example_selector,\n",
    "    example_prompt=PromptTemplate.from_template(\n",
    "        \"User input: {input}\\nSQL query: {query}\"\n",
    "    ),\n",
    "    input_variables=[\"input\", \"dialect\", \"top_k\"],\n",
    "    prefix=system_prefix,\n",
    "    suffix=\"\",\n",
    ")"
   ]
  },
  {
   "cell_type": "code",
   "execution_count": 71,
   "metadata": {},
   "outputs": [],
   "source": [
    "full_prompt = ChatPromptTemplate.from_messages(\n",
    "    [\n",
    "        SystemMessagePromptTemplate(prompt=few_shot_prompt),\n",
    "        (\"human\", \"{input}\"),\n",
    "        MessagesPlaceholder(\"agent_scratchpad\"),\n",
    "    ]\n",
    ")"
   ]
  },
  {
   "cell_type": "code",
   "execution_count": 72,
   "metadata": {},
   "outputs": [
    {
     "name": "stdout",
     "output_type": "stream",
     "text": [
      "System: You are an agent designed to interact with a SQL database.\n",
      "Given an input question, create a syntactically correct SQLite query to run, then look at the results of the query and return the answer.\n",
      "Unless the user specifies a specific number of examples they wish to obtain, always limit your query to at most 5 results.\n",
      "You can order the results by a relevant column to return the most interesting examples in the database.\n",
      "Never query for all the columns from a specific table, only ask for the relevant columns given the question.\n",
      "You have access to tools for interacting with the database.\n",
      "Only use the given tools. Only use the information returned by the tools to construct your final answer.\n",
      "You MUST double check your query before executing it. If you get an error while executing a query, rewrite the query and try again.\n",
      "\n",
      "DO NOT make any DML statements (INSERT, UPDATE, DELETE, DROP etc.) to the database.\n",
      "\n",
      "If the question does not seem related to the database, just return \"I don't know\" as the answer.\n",
      "\n",
      "Here are some examples of user inputs and their corresponding SQL queries:\n",
      "\n",
      "User input: Get the final earning for clients whose Analyst Rating was to sell the shares\n",
      "SQL query: \n",
      "    SELECT\n",
      "        fac.Client_Id,\n",
      "        fac.Client,\n",
      "        SUM(ROUND(fac.Quantity * (fac.\"Current Price\"-fac.\"Buy Price\"))) AS FinalEarning\n",
      "    FROM financial_advisor_clients AS fac\n",
      "    WHERE\n",
      "        fac.\"Analyst Rating\" = 'Sell'\n",
      "    GROUP BY\n",
      "        fac.Client_Id,\n",
      "        fac.Client\n",
      "    ORDER BY\n",
      "        fac.Client_Id ASC\n",
      "    \n",
      "Human: How many arists are there\n"
     ]
    }
   ],
   "source": [
    "# Example formatted prompt\n",
    "prompt_val = full_prompt.invoke(\n",
    "    {\n",
    "        \"input\": \"How many arists are there\",\n",
    "        \"top_k\": 5,\n",
    "        \"dialect\": \"SQLite\",\n",
    "        \"agent_scratchpad\": [],\n",
    "    }\n",
    ")\n",
    "print(prompt_val.to_string())"
   ]
  },
  {
   "cell_type": "code",
   "execution_count": 73,
   "metadata": {},
   "outputs": [],
   "source": [
    "agent = create_sql_agent(\n",
    "    llm=llm,\n",
    "    db=db,\n",
    "    prompt=full_prompt,\n",
    "    verbose=True,\n",
    "    agent_type=\"openai-tools\",\n",
    ")"
   ]
  },
  {
   "cell_type": "code",
   "execution_count": 74,
   "metadata": {},
   "outputs": [
    {
     "name": "stdout",
     "output_type": "stream",
     "text": [
      "\n",
      "\n",
      "\u001b[1m> Entering new SQL Agent Executor chain...\u001b[0m\n",
      "\u001b[32;1m\u001b[1;3m\n",
      "Invoking: `sql_db_list_tables` with `{}`\n",
      "\n",
      "\n",
      "\u001b[0m\u001b[38;5;200m\u001b[1;3mfinancial_advisor_clients\u001b[0m\u001b[32;1m\u001b[1;3m\n",
      "Invoking: `sql_db_schema` with `{'table_names': 'financial_advisor_clients'}`\n",
      "\n",
      "\n",
      "\u001b[0m\u001b[33;1m\u001b[1;3m\n",
      "CREATE TABLE financial_advisor_clients (\n",
      "\t\"Client\" TEXT, \n",
      "\t\"Symbol\" TEXT, \n",
      "\t\"Name\" TEXT, \n",
      "\t\"Sector\" TEXT, \n",
      "\t\"Quantity\" REAL, \n",
      "\t\"Buy Price\" REAL, \n",
      "\t\"Current Price\" REAL, \n",
      "\t\"Market Value\" REAL, \n",
      "\t\"Purchase Date\" TEXT, \n",
      "\t\"Dividend Yield\" REAL, \n",
      "\t\"P/E Ratio\" REAL, \n",
      "\t\"52-Week High\" REAL, \n",
      "\t\"52-Week Low\" REAL, \n",
      "\t\"Analyst Rating\" TEXT, \n",
      "\t\"Target Price\" REAL, \n",
      "\t\"Risk Level\" TEXT, \n",
      "\t\"Client_validation\" INTEGER, \n",
      "\t\"Client_Id\" TEXT\n",
      ")\n",
      "\n",
      "/*\n",
      "3 rows from financial_advisor_clients table:\n",
      "Client\tSymbol\tName\tSector\tQuantity\tBuy Price\tCurrent Price\tMarket Value\tPurchase Date\tDividend Yield\tP/E Ratio\t52-Week High\t52-Week Low\tAnalyst Rating\tTarget Price\tRisk Level\tClient_validation\tClient_Id\n",
      "Client_1\tDIA\tSPDR Dow Jones Industrial Average ETF\tETF\t135.0\t264.89\t574.42\t77546.7\t12/11/21\t1.61\t19.2\t674.71\t493.6\tHold\t660.28\tMedium\t1\t9e44eb7176da2ea6454a4a2894c345f6\n",
      "Client_1\tGOOGL\tAlphabet Inc.\tCommunication Services\t45.0\t93.66\t1062.91\t47830.95\t11/23/21\t2.62\t23.06\t1205.77\t866.81\tHold\t1077.25\tMedium\t1\t9e44eb7176da2ea6454a4a2894c345f6\n",
      "Client_1\tAMZN\tAmazon.com Inc.\tNone\t175.0\t412.66\t1431.35\t250486.25\t1/13/21\t4.85\t17.01\t1601.19\t1155.29\tBuy\t1368.42\tLow\t1\t9e44eb7176da2ea6454a4a2894c345f6\n",
      "*/\u001b[0m\u001b[32;1m\u001b[1;3m\n",
      "Invoking: `sql_db_query_checker` with `{'query': 'SELECT Client_Id, Client, SUM(ROUND(Quantity * (\"Current Price\"-\"Buy Price\"))) AS FinalEarning FROM financial_advisor_clients WHERE Client_Id = \\'9e44eb7176da2ea6454a4a2894c345f6\\' GROUP BY Client_Id, Client'}`\n",
      "\n",
      "\n",
      "\u001b[0m\u001b[36;1m\u001b[1;3m```sql\n",
      "SELECT Client_Id, Client, SUM(ROUND(Quantity * (\"Current Price\" - \"Buy Price\"))) AS FinalEarning \n",
      "FROM financial_advisor_clients \n",
      "WHERE Client_Id = '9e44eb7176da2ea6454a4a2894c345f6' \n",
      "GROUP BY Client_Id, Client\n",
      "```\u001b[0m\u001b[32;1m\u001b[1;3m\n",
      "Invoking: `sql_db_query` with `{'query': 'SELECT Client_Id, Client, SUM(ROUND(Quantity * (\"Current Price\"-\"Buy Price\"))) AS FinalEarning FROM financial_advisor_clients WHERE Client_Id = \\'9e44eb7176da2ea6454a4a2894c345f6\\' GROUP BY Client_Id, Client'}`\n",
      "\n",
      "\n",
      "\u001b[0m\u001b[36;1m\u001b[1;3m[('9e44eb7176da2ea6454a4a2894c345f6', 'Client_1', 132002.0)]\u001b[0m\u001b[32;1m\u001b[1;3mClient_1 earned a total of 132,002.0.\u001b[0m\n",
      "\n",
      "\u001b[1m> Finished chain.\u001b[0m\n"
     ]
    },
    {
     "data": {
      "text/plain": [
       "{'input': 'how much the Client_1 got as earnings?',\n",
       " 'output': 'Client_1 earned a total of 132,002.0.'}"
      ]
     },
     "execution_count": 74,
     "metadata": {},
     "output_type": "execute_result"
    }
   ],
   "source": [
    "agent.invoke({\"input\": \"how much the Client_1 got as earnings?\"})"
   ]
  },
  {
   "cell_type": "code",
   "execution_count": 75,
   "metadata": {},
   "outputs": [
    {
     "name": "stdout",
     "output_type": "stream",
     "text": [
      "\n",
      "\n",
      "\u001b[1m> Entering new SQL Agent Executor chain...\u001b[0m\n",
      "\u001b[32;1m\u001b[1;3mHi Victor! I can help you interact with a SQL database to retrieve information or answer questions based on the data stored in it. You can ask me to:\n",
      "\n",
      "- Retrieve specific data or records.\n",
      "- Summarize or analyze data.\n",
      "- Provide insights based on certain criteria.\n",
      "- Answer questions about the structure of the database.\n",
      "\n",
      "For example, you can ask me things like:\n",
      "- \"Show me the top 10 products by sales.\"\n",
      "- \"What is the average salary of employees in the marketing department?\"\n",
      "- \"List all clients who have made a purchase in the last month.\"\n",
      "\n",
      "Just let me know what you need, and I'll do my best to assist you!\u001b[0m\n",
      "\n",
      "\u001b[1m> Finished chain.\u001b[0m\n"
     ]
    },
    {
     "data": {
      "text/plain": [
       "{'input': 'Hi! my name is Victor. How can you help me?',\n",
       " 'output': 'Hi Victor! I can help you interact with a SQL database to retrieve information or answer questions based on the data stored in it. You can ask me to:\\n\\n- Retrieve specific data or records.\\n- Summarize or analyze data.\\n- Provide insights based on certain criteria.\\n- Answer questions about the structure of the database.\\n\\nFor example, you can ask me things like:\\n- \"Show me the top 10 products by sales.\"\\n- \"What is the average salary of employees in the marketing department?\"\\n- \"List all clients who have made a purchase in the last month.\"\\n\\nJust let me know what you need, and I\\'ll do my best to assist you!'}"
      ]
     },
     "execution_count": 75,
     "metadata": {},
     "output_type": "execute_result"
    }
   ],
   "source": [
    "agent.invoke({\"input\": \"Hi! my name is Victor. How can you help me?\"})"
   ]
  },
  {
   "cell_type": "markdown",
   "metadata": {},
   "source": [
    "## Adding memory"
   ]
  },
  {
   "cell_type": "code",
   "execution_count": 76,
   "metadata": {},
   "outputs": [],
   "source": [
    "from langchain_community.chat_message_histories import ChatMessageHistory\n",
    "from langchain_core.runnables.history import RunnableWithMessageHistory"
   ]
  },
  {
   "cell_type": "code",
   "execution_count": 77,
   "metadata": {},
   "outputs": [],
   "source": [
    "message_history = ChatMessageHistory()"
   ]
  },
  {
   "cell_type": "code",
   "execution_count": 78,
   "metadata": {},
   "outputs": [],
   "source": [
    "agent_with_chat_history = RunnableWithMessageHistory(\n",
    "    agent,\n",
    "    # This is needed because in most real world scenarios, a session id is needed\n",
    "    # It isn't really used here because we are using a simple in memory ChatMessageHistory\n",
    "    lambda session_id: message_history,\n",
    "    input_messages_key=\"input\",\n",
    "    history_messages_key=\"chat_history\",\n",
    ")"
   ]
  },
  {
   "cell_type": "code",
   "execution_count": 85,
   "metadata": {},
   "outputs": [
    {
     "name": "stdout",
     "output_type": "stream",
     "text": [
      "\n",
      "\n",
      "\u001b[1m> Entering new SQL Agent Executor chain...\u001b[0m\n",
      "\u001b[32;1m\u001b[1;3m\n",
      "Invoking: `sql_db_list_tables` with `{}`\n",
      "\n",
      "\n",
      "\u001b[0m\u001b[38;5;200m\u001b[1;3mfinancial_advisor_clients\u001b[0m\u001b[32;1m\u001b[1;3m\n",
      "Invoking: `sql_db_schema` with `{'table_names': 'financial_advisor_clients'}`\n",
      "\n",
      "\n",
      "\u001b[0m\u001b[33;1m\u001b[1;3m\n",
      "CREATE TABLE financial_advisor_clients (\n",
      "\t\"Client\" TEXT, \n",
      "\t\"Symbol\" TEXT, \n",
      "\t\"Name\" TEXT, \n",
      "\t\"Sector\" TEXT, \n",
      "\t\"Quantity\" REAL, \n",
      "\t\"Buy Price\" REAL, \n",
      "\t\"Current Price\" REAL, \n",
      "\t\"Market Value\" REAL, \n",
      "\t\"Purchase Date\" TEXT, \n",
      "\t\"Dividend Yield\" REAL, \n",
      "\t\"P/E Ratio\" REAL, \n",
      "\t\"52-Week High\" REAL, \n",
      "\t\"52-Week Low\" REAL, \n",
      "\t\"Analyst Rating\" TEXT, \n",
      "\t\"Target Price\" REAL, \n",
      "\t\"Risk Level\" TEXT, \n",
      "\t\"Client_validation\" INTEGER, \n",
      "\t\"Client_Id\" TEXT\n",
      ")\n",
      "\n",
      "/*\n",
      "3 rows from financial_advisor_clients table:\n",
      "Client\tSymbol\tName\tSector\tQuantity\tBuy Price\tCurrent Price\tMarket Value\tPurchase Date\tDividend Yield\tP/E Ratio\t52-Week High\t52-Week Low\tAnalyst Rating\tTarget Price\tRisk Level\tClient_validation\tClient_Id\n",
      "Client_1\tDIA\tSPDR Dow Jones Industrial Average ETF\tETF\t135.0\t264.89\t574.42\t77546.7\t12/11/21\t1.61\t19.2\t674.71\t493.6\tHold\t660.28\tMedium\t1\t9e44eb7176da2ea6454a4a2894c345f6\n",
      "Client_1\tGOOGL\tAlphabet Inc.\tCommunication Services\t45.0\t93.66\t1062.91\t47830.95\t11/23/21\t2.62\t23.06\t1205.77\t866.81\tHold\t1077.25\tMedium\t1\t9e44eb7176da2ea6454a4a2894c345f6\n",
      "Client_1\tAMZN\tAmazon.com Inc.\tNone\t175.0\t412.66\t1431.35\t250486.25\t1/13/21\t4.85\t17.01\t1601.19\t1155.29\tBuy\t1368.42\tLow\t1\t9e44eb7176da2ea6454a4a2894c345f6\n",
      "*/\u001b[0m\u001b[32;1m\u001b[1;3m\n",
      "Invoking: `sql_db_query_checker` with `{'query': 'SELECT Client_Id, Client, SUM(ROUND(Quantity * (\"Current Price\"-\"Buy Price\"))) AS FinalEarning FROM financial_advisor_clients WHERE Client_Id = \\'9e44eb7176da2ea6454a4a2894c345f6\\' GROUP BY Client_Id, Client'}`\n",
      "\n",
      "\n",
      "\u001b[0m\u001b[36;1m\u001b[1;3m```sql\n",
      "SELECT Client_Id, Client, SUM(ROUND(Quantity * (\"Current Price\" - \"Buy Price\"))) AS FinalEarning \n",
      "FROM financial_advisor_clients \n",
      "WHERE Client_Id = '9e44eb7176da2ea6454a4a2894c345f6' \n",
      "GROUP BY Client_Id, Client\n",
      "```\u001b[0m\u001b[32;1m\u001b[1;3m\n",
      "Invoking: `sql_db_query` with `{'query': 'SELECT Client_Id, Client, SUM(ROUND(Quantity * (\"Current Price\" - \"Buy Price\"))) AS FinalEarning FROM financial_advisor_clients WHERE Client_Id = \\'9e44eb7176da2ea6454a4a2894c345f6\\' GROUP BY Client_Id, Client'}`\n",
      "\n",
      "\n",
      "\u001b[0m\u001b[36;1m\u001b[1;3m[('9e44eb7176da2ea6454a4a2894c345f6', 'Client_1', 132002.0)]\u001b[0m\u001b[32;1m\u001b[1;3mClient_1 earned a total of 132,002.0.\u001b[0m\n",
      "\n",
      "\u001b[1m> Finished chain.\u001b[0m\n"
     ]
    },
    {
     "data": {
      "text/plain": [
       "{'input': 'how much the Client_1 got as earnings?',\n",
       " 'chat_history': [HumanMessage(content=\"hi! I'm bob\"),\n",
       "  AIMessage(content='Hello Bob! How can I assist you today?'),\n",
       "  HumanMessage(content=\"what's my name?\"),\n",
       "  AIMessage(content=\"I don't know.\")],\n",
       " 'output': 'Client_1 earned a total of 132,002.0.'}"
      ]
     },
     "execution_count": 85,
     "metadata": {},
     "output_type": "execute_result"
    }
   ],
   "source": [
    "agent_with_chat_history.invoke(\n",
    "    {\"input\": \"how much the Client_1 got as earnings?\"},\n",
    "    # This is needed because in most real world scenarios, a session id is needed\n",
    "    # It isn't really used here because we are using a simple in memory ChatMessageHistory\n",
    "    config={\"configurable\": {\"session_id\": \"<foo>\"}},\n",
    ")"
   ]
  },
  {
   "cell_type": "code",
   "execution_count": 86,
   "metadata": {},
   "outputs": [
    {
     "name": "stdout",
     "output_type": "stream",
     "text": [
      "\n",
      "\n",
      "\u001b[1m> Entering new SQL Agent Executor chain...\u001b[0m\n",
      "\u001b[32;1m\u001b[1;3m\n",
      "Invoking: `sql_db_list_tables` with `{}`\n",
      "\n",
      "\n",
      "\u001b[0m\u001b[38;5;200m\u001b[1;3mfinancial_advisor_clients\u001b[0m\u001b[32;1m\u001b[1;3m\n",
      "Invoking: `sql_db_schema` with `{'table_names': 'financial_advisor_clients'}`\n",
      "\n",
      "\n",
      "\u001b[0m\u001b[33;1m\u001b[1;3m\n",
      "CREATE TABLE financial_advisor_clients (\n",
      "\t\"Client\" TEXT, \n",
      "\t\"Symbol\" TEXT, \n",
      "\t\"Name\" TEXT, \n",
      "\t\"Sector\" TEXT, \n",
      "\t\"Quantity\" REAL, \n",
      "\t\"Buy Price\" REAL, \n",
      "\t\"Current Price\" REAL, \n",
      "\t\"Market Value\" REAL, \n",
      "\t\"Purchase Date\" TEXT, \n",
      "\t\"Dividend Yield\" REAL, \n",
      "\t\"P/E Ratio\" REAL, \n",
      "\t\"52-Week High\" REAL, \n",
      "\t\"52-Week Low\" REAL, \n",
      "\t\"Analyst Rating\" TEXT, \n",
      "\t\"Target Price\" REAL, \n",
      "\t\"Risk Level\" TEXT, \n",
      "\t\"Client_validation\" INTEGER, \n",
      "\t\"Client_Id\" TEXT\n",
      ")\n",
      "\n",
      "/*\n",
      "3 rows from financial_advisor_clients table:\n",
      "Client\tSymbol\tName\tSector\tQuantity\tBuy Price\tCurrent Price\tMarket Value\tPurchase Date\tDividend Yield\tP/E Ratio\t52-Week High\t52-Week Low\tAnalyst Rating\tTarget Price\tRisk Level\tClient_validation\tClient_Id\n",
      "Client_1\tDIA\tSPDR Dow Jones Industrial Average ETF\tETF\t135.0\t264.89\t574.42\t77546.7\t12/11/21\t1.61\t19.2\t674.71\t493.6\tHold\t660.28\tMedium\t1\t9e44eb7176da2ea6454a4a2894c345f6\n",
      "Client_1\tGOOGL\tAlphabet Inc.\tCommunication Services\t45.0\t93.66\t1062.91\t47830.95\t11/23/21\t2.62\t23.06\t1205.77\t866.81\tHold\t1077.25\tMedium\t1\t9e44eb7176da2ea6454a4a2894c345f6\n",
      "Client_1\tAMZN\tAmazon.com Inc.\tNone\t175.0\t412.66\t1431.35\t250486.25\t1/13/21\t4.85\t17.01\t1601.19\t1155.29\tBuy\t1368.42\tLow\t1\t9e44eb7176da2ea6454a4a2894c345f6\n",
      "*/\u001b[0m\u001b[32;1m\u001b[1;3m\n",
      "Invoking: `sql_db_query_checker` with `{'query': 'SELECT Client, Symbol, Name, Sector, Quantity, \"Buy Price\", \"Current Price\", \"Market Value\", \"Purchase Date\", \"Dividend Yield\", \"P/E Ratio\", \"52-Week High\", \"52-Week Low\", \"Analyst Rating\", \"Target Price\", \"Risk Level\" FROM financial_advisor_clients WHERE Client = \\'Client_2\\' LIMIT 10'}`\n",
      "\n",
      "\n",
      "\u001b[0m\u001b[36;1m\u001b[1;3m```sql\n",
      "SELECT Client, Symbol, Name, Sector, Quantity, \"Buy Price\", \"Current Price\", \"Market Value\", \"Purchase Date\", \"Dividend Yield\", \"P/E Ratio\", \"52-Week High\", \"52-Week Low\", \"Analyst Rating\", \"Target Price\", \"Risk Level\" \n",
      "FROM financial_advisor_clients \n",
      "WHERE Client = 'Client_2' \n",
      "LIMIT 10;\n",
      "```\u001b[0m\u001b[32;1m\u001b[1;3m\n",
      "Invoking: `sql_db_query` with `{'query': 'SELECT Client, Symbol, Name, Sector, Quantity, \"Buy Price\", \"Current Price\", \"Market Value\", \"Purchase Date\", \"Dividend Yield\", \"P/E Ratio\", \"52-Week High\", \"52-Week Low\", \"Analyst Rating\", \"Target Price\", \"Risk Level\" FROM financial_advisor_clients WHERE Client = \\'Client_2\\' LIMIT 10'}`\n",
      "\n",
      "\n",
      "\u001b[0m\u001b[36;1m\u001b[1;3m[('Client_2', 'FB', 'Meta Platforms Inc.', 'Communication Services', 116.0, 1346.21, 362.21, 42016.36, '3/11/21', 2.8, 23.89, 403.27, 240.16, 'Buy', 370.07, 'Low'), ('Client_2', 'TSLA', 'Tesla Inc.', 'Consumer Discretionary', 148.0, 70.38, 71.81, 10627.88, '11/20/21', 2.8, 27.84, 97.54, 63.93, 'Sell', 70.15, 'High'), ('Client_2', 'MSFT', 'Microsoft Corp.', 'Technology', 90.0, 938.7, 1204.22, 108379.8, None, 2.01, 6.72, 1355.17, 1034.47, 'Sell', 1219.47, 'High'), ('Client_2', 'JNJ', 'Johnson & Johnson', 'Health Care', 106.0, 1221.38, 548.71, 58163.26, '4/10/21', 3.28, 25.99, 636.39, 548.67, 'Buy', 550.22, 'Low'), ('Client_2', 'QQQ', 'Invesco QQQ Trust', 'ETF', 15.0, 736.6, 432.15, 6482.25, '12/20/21', 4.91, 24.06, 465.94, 234.94, 'Buy', 457.36, 'Low'), ('Client_2', 'AAPL', 'Apple Inc.', 'Technology', 195.0, 1113.52, 927.15, 180794.25, '8/24/21', 4.14, 26.93, 1218.99, 712.73, 'Buy', 1060.98, 'Medium'), ('Client_2', None, 'SPDR Dow Jones Industrial Average ETF', 'ETF', 106.0, 371.17, 1026.94, 108855.64, '7/2/21', 3.85, 24.79, 1087.55, 523.72, 'Sell', 1170.25, 'Medium'), ('Client_2', 'GOOGL', 'Alphabet Inc.', 'Communication Services', 71.0, 52.39, 481.81, 34208.51, '4/19/21', 2.02, 17.78, 586.76, 274.35, 'Buy', 518.3, 'High'), ('Client_2', 'AMZN', 'Amazon.com Inc.', 'Consumer Discretionary', 149.0, 905.01, 1478.14, 220242.86, '1/25/21', 2.63, 16.36, 1788.58, 1150.36, 'Hold', 1480.52, 'High'), ('Client_2', 'SPY', 'SPDR S&P 500 ETF', 'ETF', 31.0, 1026.73, 1299.6, 40287.6, '6/19/21', 4.45, 10.78, 1477.77, 1272.11, 'Buy', 1522.46, 'Low')]\u001b[0m\u001b[32;1m\u001b[1;3mHere are the details for Client_2:\n",
      "\n",
      "1. **Meta Platforms Inc. (FB)**\n",
      "   - Sector: Communication Services\n",
      "   - Quantity: 116\n",
      "   - Buy Price: 1346.21\n",
      "   - Current Price: 362.21\n",
      "   - Market Value: 42016.36\n",
      "   - Purchase Date: 3/11/21\n",
      "   - Dividend Yield: 2.8%\n",
      "   - P/E Ratio: 23.89\n",
      "   - 52-Week High: 403.27\n",
      "   - 52-Week Low: 240.16\n",
      "   - Analyst Rating: Buy\n",
      "   - Target Price: 370.07\n",
      "   - Risk Level: Low\n",
      "\n",
      "2. **Tesla Inc. (TSLA)**\n",
      "   - Sector: Consumer Discretionary\n",
      "   - Quantity: 148\n",
      "   - Buy Price: 70.38\n",
      "   - Current Price: 71.81\n",
      "   - Market Value: 10627.88\n",
      "   - Purchase Date: 11/20/21\n",
      "   - Dividend Yield: 2.8%\n",
      "   - P/E Ratio: 27.84\n",
      "   - 52-Week High: 97.54\n",
      "   - 52-Week Low: 63.93\n",
      "   - Analyst Rating: Sell\n",
      "   - Target Price: 70.15\n",
      "   - Risk Level: High\n",
      "\n",
      "3. **Microsoft Corp. (MSFT)**\n",
      "   - Sector: Technology\n",
      "   - Quantity: 90\n",
      "   - Buy Price: 938.7\n",
      "   - Current Price: 1204.22\n",
      "   - Market Value: 108379.8\n",
      "   - Dividend Yield: 2.01%\n",
      "   - P/E Ratio: 6.72\n",
      "   - 52-Week High: 1355.17\n",
      "   - 52-Week Low: 1034.47\n",
      "   - Analyst Rating: Sell\n",
      "   - Target Price: 1219.47\n",
      "   - Risk Level: High\n",
      "\n",
      "4. **Johnson & Johnson (JNJ)**\n",
      "   - Sector: Health Care\n",
      "   - Quantity: 106\n",
      "   - Buy Price: 1221.38\n",
      "   - Current Price: 548.71\n",
      "   - Market Value: 58163.26\n",
      "   - Purchase Date: 4/10/21\n",
      "   - Dividend Yield: 3.28%\n",
      "   - P/E Ratio: 25.99\n",
      "   - 52-Week High: 636.39\n",
      "   - 52-Week Low: 548.67\n",
      "   - Analyst Rating: Buy\n",
      "   - Target Price: 550.22\n",
      "   - Risk Level: Low\n",
      "\n",
      "5. **Invesco QQQ Trust (QQQ)**\n",
      "   - Sector: ETF\n",
      "   - Quantity: 15\n",
      "   - Buy Price: 736.6\n",
      "   - Current Price: 432.15\n",
      "   - Market Value: 6482.25\n",
      "   - Purchase Date: 12/20/21\n",
      "   - Dividend Yield: 4.91%\n",
      "   - P/E Ratio: 24.06\n",
      "   - 52-Week High: 465.94\n",
      "   - 52-Week Low: 234.94\n",
      "   - Analyst Rating: Buy\n",
      "   - Target Price: 457.36\n",
      "   - Risk Level: Low\n",
      "\n",
      "6. **Apple Inc. (AAPL)**\n",
      "   - Sector: Technology\n",
      "   - Quantity: 195\n",
      "   - Buy Price: 1113.52\n",
      "   - Current Price: 927.15\n",
      "   - Market Value: 180794.25\n",
      "   - Purchase Date: 8/24/21\n",
      "   - Dividend Yield: 4.14%\n",
      "   - P/E Ratio: 26.93\n",
      "   - 52-Week High: 1218.99\n",
      "   - 52-Week Low: 712.73\n",
      "   - Analyst Rating: Buy\n",
      "   - Target Price: 1060.98\n",
      "   - Risk Level: Medium\n",
      "\n",
      "7. **SPDR Dow Jones Industrial Average ETF**\n",
      "   - Sector: ETF\n",
      "   - Quantity: 106\n",
      "   - Buy Price: 371.17\n",
      "   - Current Price: 1026.94\n",
      "   - Market Value: 108855.64\n",
      "   - Purchase Date: 7/2/21\n",
      "   - Dividend Yield: 3.85%\n",
      "   - P/E Ratio: 24.79\n",
      "   - 52-Week High: 1087.55\n",
      "   - 52-Week Low: 523.72\n",
      "   - Analyst Rating: Sell\n",
      "   - Target Price: 1170.25\n",
      "   - Risk Level: Medium\n",
      "\n",
      "8. **Alphabet Inc. (GOOGL)**\n",
      "   - Sector: Communication Services\n",
      "   - Quantity: 71\n",
      "   - Buy Price: 52.39\n",
      "   - Current Price: 481.81\n",
      "   - Market Value: 34208.51\n",
      "   - Purchase Date: 4/19/21\n",
      "   - Dividend Yield: 2.02%\n",
      "   - P/E Ratio: 17.78\n",
      "   - 52-Week High: 586.76\n",
      "   - 52-Week Low: 274.35\n",
      "   - Analyst Rating: Buy\n",
      "   - Target Price: 518.3\n",
      "   - Risk Level: High\n",
      "\n",
      "9. **Amazon.com Inc. (AMZN)**\n",
      "   - Sector: Consumer Discretionary\n",
      "   - Quantity: 149\n",
      "   - Buy Price: 905.01\n",
      "   - Current Price: 1478.14\n",
      "   - Market Value: 220242.86\n",
      "   - Purchase Date: 1/25/21\n",
      "   - Dividend Yield: 2.63%\n",
      "   - P/E Ratio: 16.36\n",
      "   - 52-Week High: 1788.58\n",
      "   - 52-Week Low: 1150.36\n",
      "   - Analyst Rating: Hold\n",
      "   - Target Price: 1480.52\n",
      "   - Risk Level: High\n",
      "\n",
      "10. **SPDR S&P 500 ETF (SPY)**\n",
      "    - Sector: ETF\n",
      "    - Quantity: 31\n",
      "    - Buy Price: 1026.73\n",
      "    - Current Price: 1299.6\n",
      "    - Market Value: 40287.6\n",
      "    - Purchase Date: 6/19/21\n",
      "    - Dividend Yield: 4.45%\n",
      "    - P/E Ratio: 10.78\n",
      "    - 52-Week High: 1477.77\n",
      "    - 52-Week Low: 1272.11\n",
      "    - Analyst Rating: Buy\n",
      "    - Target Price: 1522.46\n",
      "    - Risk Level: Low\u001b[0m\n",
      "\n",
      "\u001b[1m> Finished chain.\u001b[0m\n"
     ]
    },
    {
     "data": {
      "text/plain": [
       "{'input': 'what about Client_2?',\n",
       " 'chat_history': [HumanMessage(content=\"hi! I'm bob\"),\n",
       "  AIMessage(content='Hello Bob! How can I assist you today?'),\n",
       "  HumanMessage(content=\"what's my name?\"),\n",
       "  AIMessage(content=\"I don't know.\"),\n",
       "  HumanMessage(content='how much the Client_1 got as earnings?'),\n",
       "  AIMessage(content='Client_1 earned a total of 132,002.0.')],\n",
       " 'output': 'Here are the details for Client_2:\\n\\n1. **Meta Platforms Inc. (FB)**\\n   - Sector: Communication Services\\n   - Quantity: 116\\n   - Buy Price: 1346.21\\n   - Current Price: 362.21\\n   - Market Value: 42016.36\\n   - Purchase Date: 3/11/21\\n   - Dividend Yield: 2.8%\\n   - P/E Ratio: 23.89\\n   - 52-Week High: 403.27\\n   - 52-Week Low: 240.16\\n   - Analyst Rating: Buy\\n   - Target Price: 370.07\\n   - Risk Level: Low\\n\\n2. **Tesla Inc. (TSLA)**\\n   - Sector: Consumer Discretionary\\n   - Quantity: 148\\n   - Buy Price: 70.38\\n   - Current Price: 71.81\\n   - Market Value: 10627.88\\n   - Purchase Date: 11/20/21\\n   - Dividend Yield: 2.8%\\n   - P/E Ratio: 27.84\\n   - 52-Week High: 97.54\\n   - 52-Week Low: 63.93\\n   - Analyst Rating: Sell\\n   - Target Price: 70.15\\n   - Risk Level: High\\n\\n3. **Microsoft Corp. (MSFT)**\\n   - Sector: Technology\\n   - Quantity: 90\\n   - Buy Price: 938.7\\n   - Current Price: 1204.22\\n   - Market Value: 108379.8\\n   - Dividend Yield: 2.01%\\n   - P/E Ratio: 6.72\\n   - 52-Week High: 1355.17\\n   - 52-Week Low: 1034.47\\n   - Analyst Rating: Sell\\n   - Target Price: 1219.47\\n   - Risk Level: High\\n\\n4. **Johnson & Johnson (JNJ)**\\n   - Sector: Health Care\\n   - Quantity: 106\\n   - Buy Price: 1221.38\\n   - Current Price: 548.71\\n   - Market Value: 58163.26\\n   - Purchase Date: 4/10/21\\n   - Dividend Yield: 3.28%\\n   - P/E Ratio: 25.99\\n   - 52-Week High: 636.39\\n   - 52-Week Low: 548.67\\n   - Analyst Rating: Buy\\n   - Target Price: 550.22\\n   - Risk Level: Low\\n\\n5. **Invesco QQQ Trust (QQQ)**\\n   - Sector: ETF\\n   - Quantity: 15\\n   - Buy Price: 736.6\\n   - Current Price: 432.15\\n   - Market Value: 6482.25\\n   - Purchase Date: 12/20/21\\n   - Dividend Yield: 4.91%\\n   - P/E Ratio: 24.06\\n   - 52-Week High: 465.94\\n   - 52-Week Low: 234.94\\n   - Analyst Rating: Buy\\n   - Target Price: 457.36\\n   - Risk Level: Low\\n\\n6. **Apple Inc. (AAPL)**\\n   - Sector: Technology\\n   - Quantity: 195\\n   - Buy Price: 1113.52\\n   - Current Price: 927.15\\n   - Market Value: 180794.25\\n   - Purchase Date: 8/24/21\\n   - Dividend Yield: 4.14%\\n   - P/E Ratio: 26.93\\n   - 52-Week High: 1218.99\\n   - 52-Week Low: 712.73\\n   - Analyst Rating: Buy\\n   - Target Price: 1060.98\\n   - Risk Level: Medium\\n\\n7. **SPDR Dow Jones Industrial Average ETF**\\n   - Sector: ETF\\n   - Quantity: 106\\n   - Buy Price: 371.17\\n   - Current Price: 1026.94\\n   - Market Value: 108855.64\\n   - Purchase Date: 7/2/21\\n   - Dividend Yield: 3.85%\\n   - P/E Ratio: 24.79\\n   - 52-Week High: 1087.55\\n   - 52-Week Low: 523.72\\n   - Analyst Rating: Sell\\n   - Target Price: 1170.25\\n   - Risk Level: Medium\\n\\n8. **Alphabet Inc. (GOOGL)**\\n   - Sector: Communication Services\\n   - Quantity: 71\\n   - Buy Price: 52.39\\n   - Current Price: 481.81\\n   - Market Value: 34208.51\\n   - Purchase Date: 4/19/21\\n   - Dividend Yield: 2.02%\\n   - P/E Ratio: 17.78\\n   - 52-Week High: 586.76\\n   - 52-Week Low: 274.35\\n   - Analyst Rating: Buy\\n   - Target Price: 518.3\\n   - Risk Level: High\\n\\n9. **Amazon.com Inc. (AMZN)**\\n   - Sector: Consumer Discretionary\\n   - Quantity: 149\\n   - Buy Price: 905.01\\n   - Current Price: 1478.14\\n   - Market Value: 220242.86\\n   - Purchase Date: 1/25/21\\n   - Dividend Yield: 2.63%\\n   - P/E Ratio: 16.36\\n   - 52-Week High: 1788.58\\n   - 52-Week Low: 1150.36\\n   - Analyst Rating: Hold\\n   - Target Price: 1480.52\\n   - Risk Level: High\\n\\n10. **SPDR S&P 500 ETF (SPY)**\\n    - Sector: ETF\\n    - Quantity: 31\\n    - Buy Price: 1026.73\\n    - Current Price: 1299.6\\n    - Market Value: 40287.6\\n    - Purchase Date: 6/19/21\\n    - Dividend Yield: 4.45%\\n    - P/E Ratio: 10.78\\n    - 52-Week High: 1477.77\\n    - 52-Week Low: 1272.11\\n    - Analyst Rating: Buy\\n    - Target Price: 1522.46\\n    - Risk Level: Low'}"
      ]
     },
     "execution_count": 86,
     "metadata": {},
     "output_type": "execute_result"
    }
   ],
   "source": [
    "agent_with_chat_history.invoke(\n",
    "    {\"input\": \"what about Client_2?\"},\n",
    "    # This is needed because in most real world scenarios, a session id is needed\n",
    "    # It isn't really used here because we are using a simple in memory ChatMessageHistory\n",
    "    config={\"configurable\": {\"session_id\": \"<foo>\"}},\n",
    ")"
   ]
  },
  {
   "cell_type": "code",
   "execution_count": null,
   "metadata": {},
   "outputs": [],
   "source": []
  }
 ],
 "metadata": {
  "kernelspec": {
   "display_name": ".venv",
   "language": "python",
   "name": "python3"
  },
  "language_info": {
   "codemirror_mode": {
    "name": "ipython",
    "version": 3
   },
   "file_extension": ".py",
   "mimetype": "text/x-python",
   "name": "python",
   "nbconvert_exporter": "python",
   "pygments_lexer": "ipython3",
   "version": "3.12.4"
  }
 },
 "nbformat": 4,
 "nbformat_minor": 2
}
